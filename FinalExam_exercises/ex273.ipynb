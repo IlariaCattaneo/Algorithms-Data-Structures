{
 "cells": [
  {
   "cell_type": "code",
   "execution_count": 36,
   "metadata": {},
   "outputs": [],
   "source": [
    "def BetterAlgoX(A,B):\n",
    "    A.sort()\n",
    "    B.sort()\n",
    "    if len(A) != len(B):\n",
    "        return False\n",
    "    if len(A) == 0 or len(B) == 0:\n",
    "        return False\n",
    "    for i in range(len(A)):\n",
    "        if A[i] != B[i]:\n",
    "            return False\n",
    "    return True"
   ]
  },
  {
   "cell_type": "code",
   "execution_count": 37,
   "metadata": {},
   "outputs": [
    {
     "data": {
      "text/plain": [
       "False"
      ]
     },
     "execution_count": 37,
     "metadata": {},
     "output_type": "execute_result"
    }
   ],
   "source": [
    "BetterAlgoX([1,2,3,4,5],[8,4,3,2,1])"
   ]
  },
  {
   "cell_type": "code",
   "execution_count": 19,
   "metadata": {},
   "outputs": [],
   "source": [
    "def balgox(A,B):\n",
    "    if len(A) != len(B):\n",
    "        return False\n",
    "    if len(A) == 0 or len(B) == 0:\n",
    "        return False\n",
    "    X = []\n",
    "    for i in range(len(A)):\n",
    "        X.append(A[i])\n",
    "        X.append(B[i])\n",
    "    X.sort()\n",
    "    print(X)\n",
    "    for i in range(0,len(X)-1,2):\n",
    "        if X[i] != X[i+1]:\n",
    "            return False\n",
    "    return True"
   ]
  },
  {
   "cell_type": "code",
   "execution_count": 21,
   "metadata": {},
   "outputs": [
    {
     "name": "stdout",
     "output_type": "stream",
     "text": [
      "[7, 7, 26, 26, 32, 32, 58, 58, 99, 99]\n"
     ]
    },
    {
     "data": {
      "text/plain": [
       "True"
      ]
     },
     "execution_count": 21,
     "metadata": {},
     "output_type": "execute_result"
    }
   ],
   "source": [
    "balgox([99,7,32,58,26],[7,26,58,99,32])"
   ]
  },
  {
   "cell_type": "code",
   "execution_count": 20,
   "metadata": {},
   "outputs": [
    {
     "name": "stdout",
     "output_type": "stream",
     "text": [
      "[1, 1, 2, 2, 3, 3, 4, 4, 5, 5]\n"
     ]
    },
    {
     "data": {
      "text/plain": [
       "True"
      ]
     },
     "execution_count": 20,
     "metadata": {},
     "output_type": "execute_result"
    }
   ],
   "source": [
    "balgox([1,2,3,4,5],[5,4,3,2,1])"
   ]
  }
 ],
 "metadata": {
  "kernelspec": {
   "display_name": "Python 3",
   "language": "python",
   "name": "python3"
  },
  "language_info": {
   "codemirror_mode": {
    "name": "ipython",
    "version": 3
   },
   "file_extension": ".py",
   "mimetype": "text/x-python",
   "name": "python",
   "nbconvert_exporter": "python",
   "pygments_lexer": "ipython3",
   "version": "3.10.10"
  },
  "orig_nbformat": 4
 },
 "nbformat": 4,
 "nbformat_minor": 2
}
