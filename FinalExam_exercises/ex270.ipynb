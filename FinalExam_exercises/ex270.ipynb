{
 "cells": [
  {
   "cell_type": "code",
   "execution_count": null,
   "metadata": {},
   "outputs": [],
   "source": [
    "def BST_COUNT_IN_RANGE(T,a,b):\n",
    "    count = 0\n",
    "    if T is None:\n",
    "        return 0\n",
    "    if T.key >= a and T.key <= b:\n",
    "        count += 1\n",
    "    if T.key > a:\n",
    "        count += BST_COUNT_IN_RANGE(T.left,a,b)\n",
    "    if T.key < b:\n",
    "        count += BST_COUNT_IN_RANGE(T.right,a,b)\n",
    "    return count"
   ]
  }
 ],
 "metadata": {
  "language_info": {
   "name": "python"
  },
  "orig_nbformat": 4
 },
 "nbformat": 4,
 "nbformat_minor": 2
}
